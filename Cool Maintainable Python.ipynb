{
 "cells": [
  {
   "cell_type": "markdown",
   "metadata": {},
   "source": [
    "# Cool, _Maintainable_ Python\n",
    "\n",
    "Language features, built-in modules and other tips to make your Python code worth reading again next year."
   ]
  },
  {
   "cell_type": "code",
   "execution_count": 101,
   "metadata": {},
   "outputs": [],
   "source": [
    "def go_on_vacation(vacation_type, duration, destination):\n",
    "    take_days_off_from_work(duration)\n",
    "    print(\"-\" * 20)\n",
    "    if vacation_type is None:\n",
    "        vacation_type = \"beach\"\n",
    "    \n",
    "    if vacation_type == \"hiking\":\n",
    "        go_hiking(duration, destination)\n",
    "    elif vacation_type == \"biking\":\n",
    "        go_biking(duration, destination)\n",
    "    elif vacation_type == \"beach\":\n",
    "        go_to_the_beach(duration, destination)\n",
    "        \n",
    "    print(\"-\" * 20)\n",
    "    back_to_work_unfortunately()"
   ]
  },
  {
   "cell_type": "code",
   "execution_count": 102,
   "metadata": {},
   "outputs": [],
   "source": [
    "def go_hiking(duration, destination):\n",
    "    print(\"It's so nice hiking in \" + destination + \" for \" + str(duration) + \" days\")\n",
    "    \n",
    "def go_biking(duration, destination):\n",
    "    print(\"It's so nice to bike in \" + destination + \" for \" + str(duration) + \" days\")\n",
    "    \n",
    "def go_to_the_beach(duration, destination):\n",
    "    print(\"OMG I love the beach. Don't need more than \" +\n",
    "          str(duration) + \" days in \" + destination + \" to be happy\")\n",
    "\n",
    "def take_days_off_from_work(duration):\n",
    "    print(\"Boss, pretty please..? I only need \" + str(duration) + \" days!\")\n",
    "    \n",
    "def back_to_work_unfortunately():\n",
    "    print(\n",
    "\"\"\"OK, ready? Here goes...\n",
    "while coffee:\n",
    "    print(\\\"work\\\")\"\"\")"
   ]
  },
  {
   "cell_type": "code",
   "execution_count": 103,
   "metadata": {},
   "outputs": [
    {
     "name": "stdout",
     "output_type": "stream",
     "text": [
      "Boss, pretty please..? I only need 4 days!\n",
      "--------------------\n",
      "It's so nice hiking in Malaysia for 4 days\n",
      "--------------------\n",
      "OK, ready? Here goes...\n",
      "while coffee:\n",
      "    print(\"work\")\n"
     ]
    }
   ],
   "source": [
    "go_on_vacation(\"hiking\", 4, \"Malaysia\")"
   ]
  },
  {
   "cell_type": "markdown",
   "metadata": {},
   "source": [
    "### This code could use some improvements.\n",
    ".\n",
    "\n",
    ".\n",
    "\n",
    ".\n"
   ]
  },
  {
   "cell_type": "markdown",
   "metadata": {},
   "source": [
    "## String formatting"
   ]
  },
  {
   "cell_type": "code",
   "execution_count": 104,
   "metadata": {},
   "outputs": [
    {
     "name": "stdout",
     "output_type": "stream",
     "text": [
      "It's so nice hiking in Guatamala for 29 days\n"
     ]
    }
   ],
   "source": [
    "def go_hiking(duration, destination):\n",
    "    print(\"It's so nice hiking in %s for %s days\" % (destination, duration))\n",
    "\n",
    "go_hiking(29, \"Guatamala\")"
   ]
  },
  {
   "cell_type": "code",
   "execution_count": 105,
   "metadata": {},
   "outputs": [
    {
     "name": "stdout",
     "output_type": "stream",
     "text": [
      "It's so nice hiking in 29 for Guatamala days (0.07945205479452055 years)\n",
      "It's so nice hiking in Kyrgyzstan for 390 days (1.068 years)\n"
     ]
    }
   ],
   "source": [
    "def go_hiking(duration, destination):\n",
    "    print(\"It's so nice hiking in %s for %s days (%s years)\" % (duration, destination, duration / 365))\n",
    "\n",
    "go_hiking(29, \"Guatamala\")\n",
    "\n",
    "def go_hiking(duration, destination):\n",
    "    print(\"It's so nice hiking in %s for %s days (%.3f years)\" % (\n",
    "        destination, duration, duration / 365))\n",
    "\n",
    "go_hiking(390, \"Kyrgyzstan\")"
   ]
  },
  {
   "cell_type": "code",
   "execution_count": 106,
   "metadata": {},
   "outputs": [
    {
     "name": "stdout",
     "output_type": "stream",
     "text": [
      "It's so nice hiking in Argentina for 12 days, I love Argentina.\n",
      "It's so nice hiking in Switzerland for 9 days, I love Switzerland.\n",
      "It's so nice hiking in Jordan for 4 days, I love Jordan.\n"
     ]
    }
   ],
   "source": [
    "def go_hiking(duration, destination):\n",
    "    print(\"It's so nice hiking in %(destination)s for %(duration)s days, I love %(destination)s.\" % {\n",
    "        \"duration\": duration,\n",
    "        \"destination\": destination\n",
    "    })\n",
    "\n",
    "go_hiking(12, \"Argentina\")\n",
    "\n",
    "def go_hiking(duration, destination):\n",
    "    print(\"It's so nice hiking in {0} for {1} days, I love {0}.\".format(destination, duration))\n",
    "\n",
    "go_hiking(9, \"Switzerland\")\n",
    "\n",
    "def go_hiking(duration, destination):\n",
    "    print(f\"It's so nice hiking in {destination} for {duration} days, I love {destination}.\")\n",
    "\n",
    "go_hiking(4, \"Jordan\")"
   ]
  },
  {
   "cell_type": "markdown",
   "metadata": {},
   "source": [
    "## Reducing clutter and duplication\n",
    "\n",
    "Increasing readability and maintainability."
   ]
  },
  {
   "cell_type": "markdown",
   "metadata": {},
   "source": [
    "### Default arguments"
   ]
  },
  {
   "cell_type": "code",
   "execution_count": 107,
   "metadata": {},
   "outputs": [],
   "source": [
    "def go_on_vacation(duration, destination, vacation_type=\"beach\"):\n",
    "    take_days_off_from_work(duration)\n",
    "    print(\"-\" * 20)\n",
    "    \n",
    "    if vacation_type == \"hiking\":\n",
    "        go_hiking(duration, destination)\n",
    "    elif vacation_type == \"biking\":\n",
    "        go_biking(duration, destination)\n",
    "    elif vacation_type == \"beach\":\n",
    "        go_to_the_beach(duration, destination)\n",
    "        \n",
    "    print(\"-\" * 20)\n",
    "    back_to_work_unfortunately()"
   ]
  },
  {
   "cell_type": "markdown",
   "metadata": {},
   "source": [
    "### Functions as objects\n",
    "Turn imperative to declarative. Sometime it's more readable."
   ]
  },
  {
   "cell_type": "code",
   "execution_count": 108,
   "metadata": {},
   "outputs": [],
   "source": [
    "VACATION_FUNCTIONS = {\n",
    "    \"hiking\": go_hiking,\n",
    "    \"biking\": go_hiking,\n",
    "    \"beach\": go_to_the_beach\n",
    "}\n",
    "def go_on_vacation(duration, destination, vacation_type=\"beach\"):\n",
    "    take_days_off_from_work(duration)\n",
    "    print(\"-\" * 20)\n",
    "    VACATION_FUNCTIONS[vacation_type](duration, destination)\n",
    "    print(\"-\" * 20)\n",
    "    back_to_work_unfortunately()"
   ]
  },
  {
   "cell_type": "code",
   "execution_count": 109,
   "metadata": {},
   "outputs": [
    {
     "name": "stdout",
     "output_type": "stream",
     "text": [
      "Boss, pretty please..? I only need 4 days!\n",
      "--------------------\n",
      "OMG I love the beach. Don't need more than 4 days in Congo to be happy\n",
      "--------------------\n",
      "OK, ready? Here goes...\n",
      "while coffee:\n",
      "    print(\"work\")\n"
     ]
    }
   ],
   "source": [
    "go_on_vacation(4, \"Congo\")"
   ]
  },
  {
   "cell_type": "markdown",
   "metadata": {},
   "source": [
    "### Inheritance"
   ]
  },
  {
   "cell_type": "code",
   "execution_count": 171,
   "metadata": {},
   "outputs": [],
   "source": [
    "class Vacation:\n",
    "    def go(self):\n",
    "        print(\"Going on vacation...\")\n",
    "        self._perform()\n",
    "        print(\"That was fun!\")\n",
    "        \n",
    "    def _perform(self):\n",
    "        raise NotImplementedError()\n",
    "\n",
    "class HikingVacation(Vacation):\n",
    "    def _perform(self):\n",
    "        print(\"Yay.. woohoo...!\")"
   ]
  },
  {
   "cell_type": "code",
   "execution_count": 172,
   "metadata": {},
   "outputs": [
    {
     "name": "stdout",
     "output_type": "stream",
     "text": [
      "Going on vacation...\n",
      "Yay.. woohoo...!\n",
      "That was fun!\n"
     ]
    }
   ],
   "source": [
    "HikingVacation().go()"
   ]
  },
  {
   "cell_type": "markdown",
   "metadata": {},
   "source": [
    "### Decorators"
   ]
  },
  {
   "cell_type": "code",
   "execution_count": 110,
   "metadata": {},
   "outputs": [
    {
     "name": "stdout",
     "output_type": "stream",
     "text": [
      "Boss, pretty please..? I only need 5 days!\n",
      "--------------------\n",
      "Duration: 5\n",
      "Destination: Copa Cabana\n",
      "--------------------\n",
      "OK, ready? Here goes...\n",
      "while coffee:\n",
      "    print(\"work\")\n"
     ]
    }
   ],
   "source": [
    "def vacation(vacation_function):\n",
    "    def wrapper(*args, **kwargs):\n",
    "        take_days_off_from_work(args[0])\n",
    "        print(\"-\" * 20)\n",
    "        vacation_function(*args, **kwargs)\n",
    "        print(\"-\" * 20)\n",
    "        back_to_work_unfortunately()\n",
    "\n",
    "    return wrapper\n",
    "        \n",
    "@vacation\n",
    "def go_to_the_beach(duration, destination):\n",
    "    \"\"\"\n",
    "    Go on a beach vacation.\n",
    "    \"\"\"\n",
    "    print(f\"Duration: {duration}\")\n",
    "    print(f\"Destination: {destination}\")\n",
    "    \n",
    "go_to_the_beach(5, \"Copa Cabana\")"
   ]
  },
  {
   "cell_type": "code",
   "execution_count": 111,
   "metadata": {},
   "outputs": [
    {
     "name": "stdout",
     "output_type": "stream",
     "text": [
      "Help on function wrapper in module __main__:\n",
      "\n",
      "wrapper(*args, **kwargs)\n",
      "\n"
     ]
    }
   ],
   "source": [
    "help(go_to_the_beach)"
   ]
  },
  {
   "cell_type": "code",
   "execution_count": 112,
   "metadata": {},
   "outputs": [
    {
     "name": "stdout",
     "output_type": "stream",
     "text": [
      "Preparing for beach vacation.\n",
      "Boss, pretty please..? I only need 5 days!\n",
      "--------------------\n",
      "Duration: 5\n",
      "Destination: Copa Cabana\n",
      "--------------------\n",
      "OK, ready? Here goes...\n",
      "while coffee:\n",
      "    print(\"work\")\n"
     ]
    }
   ],
   "source": [
    "import functools\n",
    "\n",
    "def vacation(vacation_type):\n",
    "    def decorator(vacation_function):\n",
    "        @functools.wraps(vacation_function)\n",
    "        def wrapper(*args, **kwargs):\n",
    "            print(f\"Preparing for {vacation_type} vacation.\")\n",
    "            take_days_off_from_work(args[0])\n",
    "            print(\"-\" * 20)\n",
    "            vacation_function(*args, **kwargs)\n",
    "            print(\"-\" * 20)\n",
    "            back_to_work_unfortunately()\n",
    "\n",
    "        return wrapper\n",
    "    \n",
    "    return decorator\n",
    "\n",
    "@vacation(\"beach\")\n",
    "def go_to_the_beach(duration, destination):\n",
    "    \"\"\"\n",
    "    Go on a beach vacation.\n",
    "    \"\"\"\n",
    "    print(f\"Duration: {duration}\")\n",
    "    print(f\"Destination: {destination}\")\n",
    "    \n",
    "go_to_the_beach(5, \"Copa Cabana\")"
   ]
  },
  {
   "cell_type": "code",
   "execution_count": 113,
   "metadata": {},
   "outputs": [
    {
     "name": "stdout",
     "output_type": "stream",
     "text": [
      "Help on function go_to_the_beach in module __main__:\n",
      "\n",
      "go_to_the_beach(duration, destination)\n",
      "    Go on a beach vacation.\n",
      "\n"
     ]
    }
   ],
   "source": [
    "help(go_to_the_beach)"
   ]
  },
  {
   "cell_type": "markdown",
   "metadata": {},
   "source": [
    "#### @property"
   ]
  },
  {
   "cell_type": "code",
   "execution_count": 182,
   "metadata": {},
   "outputs": [],
   "source": [
    "class Vacation:\n",
    "    def __init__(self, total_days):\n",
    "        self.total_days = total_days\n",
    "        self.elapsed_days = 0\n",
    "    \n",
    "    @property\n",
    "    def days_remaining(self):\n",
    "        return self.total_days - self.elapsed_days"
   ]
  },
  {
   "cell_type": "code",
   "execution_count": 184,
   "metadata": {},
   "outputs": [
    {
     "name": "stdout",
     "output_type": "stream",
     "text": [
      "At first, 10 days remain.\n",
      "Oh no, only 7 days.\n"
     ]
    }
   ],
   "source": [
    "vacation = Vacation(10)\n",
    "print(f\"At first, {vacation.days_remaining} days remain.\")\n",
    "vacation.elapsed_days = 3\n",
    "print(f\"Oh no, only {vacation.days_remaining} days.\")"
   ]
  },
  {
   "cell_type": "markdown",
   "metadata": {},
   "source": [
    "### Metaclasses, Class Decorators\n",
    "Use judiciously."
   ]
  },
  {
   "cell_type": "markdown",
   "metadata": {},
   "source": [
    "## Functions\n",
    "are first class citizens."
   ]
  },
  {
   "cell_type": "code",
   "execution_count": 13,
   "metadata": {},
   "outputs": [
    {
     "data": {
      "text/plain": [
       "'say'"
      ]
     },
     "execution_count": 13,
     "metadata": {},
     "output_type": "execute_result"
    }
   ],
   "source": [
    "def say(what, who):\n",
    "    print(f\"Hey, {who}! {what}\")\n",
    "    \n",
    "say.__name__"
   ]
  },
  {
   "cell_type": "code",
   "execution_count": 5,
   "metadata": {},
   "outputs": [
    {
     "name": "stdout",
     "output_type": "stream",
     "text": [
      "Hey, Matan! What's up?\n"
     ]
    }
   ],
   "source": [
    "say(\"What's up?\", \"Matan\")"
   ]
  },
  {
   "cell_type": "code",
   "execution_count": 12,
   "metadata": {},
   "outputs": [
    {
     "name": "stdout",
     "output_type": "stream",
     "text": [
      "Hey, John! Hi..!\n",
      "Hey, Sean! Hi..!\n",
      "Hey, Don! Hi..!\n"
     ]
    }
   ],
   "source": [
    "def say_hi(who):\n",
    "    say(\"Hi..!\", who)\n",
    "\n",
    "def apply_to_all(people, func):\n",
    "    for person in people:\n",
    "        func(person)\n",
    "        \n",
    "apply_to_all([\"John\", \"Sean\", \"Don\"], say_hi)"
   ]
  },
  {
   "cell_type": "code",
   "execution_count": 9,
   "metadata": {},
   "outputs": [
    {
     "name": "stdout",
     "output_type": "stream",
     "text": [
      "Hey, Kai! Hi.\n"
     ]
    }
   ],
   "source": [
    "say_hi = lambda who: say(\"Hi.\", who)\n",
    "say_hi(\"Kai\")"
   ]
  },
  {
   "cell_type": "code",
   "execution_count": 11,
   "metadata": {},
   "outputs": [
    {
     "name": "stdout",
     "output_type": "stream",
     "text": [
      "Hey, Joe! Good afternoon.\n"
     ]
    }
   ],
   "source": [
    "import functools\n",
    "tell_joe = functools.partial(say, who=\"Joe\")\n",
    "tell_joe(\"Good afternoon.\")"
   ]
  },
  {
   "cell_type": "markdown",
   "metadata": {},
   "source": [
    "## Working with collections\n",
    "* Lists, dictionaries and tuples.\n",
    "* Useful functions for working with them."
   ]
  },
  {
   "cell_type": "code",
   "execution_count": 115,
   "metadata": {},
   "outputs": [],
   "source": [
    "import collections\n",
    "\n",
    "Vacation = collections.namedtuple(\"Vacation\", [\"city\", \"duration\"])\n",
    "vacations = [\n",
    "    Vacation(\"Buenos Aires\", 4), Vacation(\"Tel Aviv\", 10), Vacation(\"Moscow\", 3), Vacation(\"Moscow\", 4), \n",
    "    Vacation(\"Tokyo\", 19), Vacation(\"Saint Petersburg\", 3), Vacation(\"Buenos Aires\", 10)\n",
    "]\n",
    "City = collections.namedtuple(\"City\", [\"city\", \"country\"])\n",
    "cities = [\n",
    "    (\"Buenos Aires\", \"Argentina\"),\n",
    "    (\"Tel Aviv\", \"Israel\"),\n",
    "    (\"Moscow\", \"Russia\"),\n",
    "    (\"Tokyo\", \"Japan\"),\n",
    "    (\"Saint Petersburg\", \"Russia\"),\n",
    "]"
   ]
  },
  {
   "cell_type": "markdown",
   "metadata": {},
   "source": [
    "### Slicing"
   ]
  },
  {
   "cell_type": "code",
   "execution_count": 130,
   "metadata": {},
   "outputs": [
    {
     "data": {
      "text/plain": [
       "[Vacation(city='Saint Petersburg', duration=3),\n",
       " Vacation(city='Tokyo', duration=19)]"
      ]
     },
     "execution_count": 130,
     "metadata": {},
     "output_type": "execute_result"
    }
   ],
   "source": [
    "vacations[0]\n",
    "vacations[-1]\n",
    "vacations[3:]\n",
    "vacations[:-1]\n",
    "vacations[-2:3:-1]"
   ]
  },
  {
   "cell_type": "markdown",
   "metadata": {},
   "source": [
    "### Iterating and aggregating"
   ]
  },
  {
   "cell_type": "code",
   "execution_count": 159,
   "metadata": {},
   "outputs": [
    {
     "name": "stdout",
     "output_type": "stream",
     "text": [
      "0 Vacation(city='Buenos Aires', duration=4)\n",
      "1 Vacation(city='Tel Aviv', duration=10)\n",
      "2 Vacation(city='Moscow', duration=3)\n",
      "3 Vacation(city='Moscow', duration=4)\n",
      "4 Vacation(city='Tokyo', duration=19)\n",
      "5 Vacation(city='Saint Petersburg', duration=3)\n",
      "6 Vacation(city='Buenos Aires', duration=10)\n"
     ]
    }
   ],
   "source": [
    "for i in range(len(vacations)):\n",
    "    print(i, vacations[i])"
   ]
  },
  {
   "cell_type": "code",
   "execution_count": 161,
   "metadata": {},
   "outputs": [
    {
     "name": "stdout",
     "output_type": "stream",
     "text": [
      "0 Vacation(city='Buenos Aires', duration=4)\n",
      "1 Vacation(city='Tel Aviv', duration=10)\n",
      "2 Vacation(city='Moscow', duration=3)\n",
      "3 Vacation(city='Moscow', duration=4)\n",
      "4 Vacation(city='Tokyo', duration=19)\n",
      "5 Vacation(city='Saint Petersburg', duration=3)\n",
      "6 Vacation(city='Buenos Aires', duration=10)\n"
     ]
    }
   ],
   "source": [
    "for i, vacation in enumerate(vacations):\n",
    "    print(i, vacation)"
   ]
  },
  {
   "cell_type": "markdown",
   "metadata": {},
   "source": [
    "#### How many total days per city?"
   ]
  },
  {
   "cell_type": "code",
   "execution_count": 133,
   "metadata": {},
   "outputs": [
    {
     "data": {
      "text/plain": [
       "{'Buenos Aires': 14,\n",
       " 'Tel Aviv': 10,\n",
       " 'Moscow': 7,\n",
       " 'Tokyo': 19,\n",
       " 'Saint Petersburg': 3}"
      ]
     },
     "execution_count": 133,
     "metadata": {},
     "output_type": "execute_result"
    }
   ],
   "source": [
    "total_days = {}\n",
    "for vacation in vacations:\n",
    "    total_per_city = total_days.get(vacation.city, 0)\n",
    "    total_days[vacation.city] = total_per_city + vacation.duration\n",
    "total_days"
   ]
  },
  {
   "cell_type": "code",
   "execution_count": 140,
   "metadata": {},
   "outputs": [
    {
     "data": {
      "text/plain": [
       "{'Buenos Aires': 14,\n",
       " 'Tel Aviv': 10,\n",
       " 'Moscow': 7,\n",
       " 'Tokyo': 19,\n",
       " 'Saint Petersburg': 3}"
      ]
     },
     "execution_count": 140,
     "metadata": {},
     "output_type": "execute_result"
    }
   ],
   "source": [
    "total_days = collections.defaultdict(lambda: 0)\n",
    "for vacation in vacations:\n",
    "    total_days[vacation.city] += vacation.duration\n",
    "\n",
    "dict(total_days)"
   ]
  },
  {
   "cell_type": "markdown",
   "metadata": {},
   "source": [
    "#### How many vacations in a certain city?"
   ]
  },
  {
   "cell_type": "code",
   "execution_count": 141,
   "metadata": {},
   "outputs": [
    {
     "data": {
      "text/plain": [
       "{'Buenos Aires': 2,\n",
       " 'Tel Aviv': 1,\n",
       " 'Moscow': 2,\n",
       " 'Tokyo': 1,\n",
       " 'Saint Petersburg': 1}"
      ]
     },
     "execution_count": 141,
     "metadata": {},
     "output_type": "execute_result"
    }
   ],
   "source": [
    "total_vacations = collections.defaultdict(lambda: 0)\n",
    "for vacation in vacations:\n",
    "    total_vacations[vacation.city] += 1\n",
    "\n",
    "dict(total_vacations)"
   ]
  },
  {
   "cell_type": "code",
   "execution_count": 144,
   "metadata": {},
   "outputs": [
    {
     "data": {
      "text/plain": [
       "{'Buenos Aires': 2,\n",
       " 'Tel Aviv': 1,\n",
       " 'Moscow': 2,\n",
       " 'Tokyo': 1,\n",
       " 'Saint Petersburg': 1}"
      ]
     },
     "execution_count": 144,
     "metadata": {},
     "output_type": "execute_result"
    }
   ],
   "source": [
    "vacation_cities = map(lambda vacation: vacation.city, vacations)\n",
    "total_vacations = collections.Counter(vacation_cities)\n",
    "dict(total_vacations)"
   ]
  },
  {
   "cell_type": "markdown",
   "metadata": {},
   "source": [
    "### Filtering and aggregating"
   ]
  },
  {
   "cell_type": "code",
   "execution_count": 148,
   "metadata": {},
   "outputs": [
    {
     "data": {
      "text/plain": [
       "{'Buenos Aires': 'Argentina',\n",
       " 'Tel Aviv': 'Israel',\n",
       " 'Moscow': 'Russia',\n",
       " 'Tokyo': 'Japan',\n",
       " 'Saint Petersburg': 'Russia'}"
      ]
     },
     "execution_count": 148,
     "metadata": {},
     "output_type": "execute_result"
    }
   ],
   "source": [
    "# Index cities by country\n",
    "city_to_country = dict(cities)\n",
    "city_to_country"
   ]
  },
  {
   "cell_type": "code",
   "execution_count": 151,
   "metadata": {},
   "outputs": [
    {
     "data": {
      "text/plain": [
       "[Vacation(city='Moscow', duration=3),\n",
       " Vacation(city='Moscow', duration=4),\n",
       " Vacation(city='Saint Petersburg', duration=3)]"
      ]
     },
     "execution_count": 151,
     "metadata": {},
     "output_type": "execute_result"
    }
   ],
   "source": [
    "# Only Russia vacations\n",
    "russia_vacations = filter(\n",
    "    lambda vacation: city_to_country[vacation.city] == \"Russia\",\n",
    "    vacations)\n",
    "list(russia_vacations)"
   ]
  },
  {
   "cell_type": "code",
   "execution_count": 156,
   "metadata": {},
   "outputs": [
    {
     "data": {
      "text/plain": [
       "10"
      ]
     },
     "execution_count": 156,
     "metadata": {},
     "output_type": "execute_result"
    }
   ],
   "source": [
    "# Total vacation days spent in Russia\n",
    "sum([vacation.duration for vacation in vacations\n",
    "    if city_to_country[vacation.city] == \"Russia\"])"
   ]
  },
  {
   "cell_type": "code",
   "execution_count": 168,
   "metadata": {},
   "outputs": [
    {
     "data": {
      "text/plain": [
       "[('Honolulu', 'Hawaii'), ('Kashgar', 'China'), ('Kiev', 'Ukraine')]"
      ]
     },
     "execution_count": 168,
     "metadata": {},
     "output_type": "execute_result"
    }
   ],
   "source": [
    "# Combining lists\n",
    "cities = [\"Honolulu\", \"Kashgar\", \"Kiev\"]\n",
    "countries = [\"Hawaii\", \"China\", \"Ukraine\"]\n",
    "list(zip(cities, countries))"
   ]
  },
  {
   "cell_type": "code",
   "execution_count": 170,
   "metadata": {},
   "outputs": [
    {
     "data": {
      "text/plain": [
       "'Hawaii'"
      ]
     },
     "execution_count": 170,
     "metadata": {},
     "output_type": "execute_result"
    }
   ],
   "source": [
    "indexed_cities = dict(zip(cities, countries))\n",
    "indexed_cities[\"Honolulu\"]"
   ]
  },
  {
   "cell_type": "markdown",
   "metadata": {},
   "source": [
    "### Generators"
   ]
  },
  {
   "cell_type": "code",
   "execution_count": 163,
   "metadata": {},
   "outputs": [],
   "source": [
    "def my_enumerate(iterable):\n",
    "    i = 0\n",
    "    for item in iterable:\n",
    "        yield i, item\n",
    "        i += 1\n",
    "    yield i, \"Extra item just for fun\""
   ]
  },
  {
   "cell_type": "code",
   "execution_count": 164,
   "metadata": {},
   "outputs": [
    {
     "data": {
      "text/plain": [
       "<generator object my_enumerate at 0x10394e258>"
      ]
     },
     "execution_count": 164,
     "metadata": {},
     "output_type": "execute_result"
    }
   ],
   "source": [
    "my_enumerate(\"abcdefg\")"
   ]
  },
  {
   "cell_type": "code",
   "execution_count": 165,
   "metadata": {},
   "outputs": [
    {
     "name": "stdout",
     "output_type": "stream",
     "text": [
      "0 a\n",
      "1 b\n",
      "2 c\n",
      "3 d\n",
      "4 e\n",
      "5 f\n",
      "6 g\n",
      "7 Extra item just for fun\n"
     ]
    }
   ],
   "source": [
    "for i, letter in my_enumerate(\"abcdefg\"):\n",
    "    print(i, letter)"
   ]
  },
  {
   "cell_type": "code",
   "execution_count": 166,
   "metadata": {},
   "outputs": [
    {
     "data": {
      "text/plain": [
       "[(0, 'a'),\n",
       " (1, 'b'),\n",
       " (2, 'c'),\n",
       " (3, 'd'),\n",
       " (4, 'e'),\n",
       " (5, 'f'),\n",
       " (6, 'g'),\n",
       " (7, 'Extra item just for fun')]"
      ]
     },
     "execution_count": 166,
     "metadata": {},
     "output_type": "execute_result"
    }
   ],
   "source": [
    "list(my_enumerate(\"abcdefg\"))"
   ]
  },
  {
   "cell_type": "code",
   "execution_count": 178,
   "metadata": {},
   "outputs": [],
   "source": [
    "def my_flatten(iterable):\n",
    "    i = 0\n",
    "    for item in iterable:\n",
    "        if isinstance(item, collections.Iterable):\n",
    "            yield from my_flatten(item)\n",
    "            yield \":D\"\n",
    "        else:\n",
    "            yield item"
   ]
  },
  {
   "cell_type": "code",
   "execution_count": 179,
   "metadata": {},
   "outputs": [
    {
     "data": {
      "text/plain": [
       "[1, 2, 3, ':D', 4, ':D', 5, 6, 7, ':D']"
      ]
     },
     "execution_count": 179,
     "metadata": {},
     "output_type": "execute_result"
    }
   ],
   "source": [
    "list(my_flatten([\n",
    "    [1, [2, 3], 4],\n",
    "    5,\n",
    "    [6, 7]\n",
    "]))"
   ]
  },
  {
   "cell_type": "markdown",
   "metadata": {},
   "source": [
    "# Concurrent execution"
   ]
  },
  {
   "cell_type": "code",
   "execution_count": 97,
   "metadata": {},
   "outputs": [
    {
     "name": "stdout",
     "output_type": "stream",
     "text": [
      "It took 4.15 seconds.\n"
     ]
    },
    {
     "data": {
      "text/plain": [
       "[12105, 555486, 148992, 231882, 174040, 977663, 284356]"
      ]
     },
     "execution_count": 97,
     "metadata": {},
     "output_type": "execute_result"
    }
   ],
   "source": [
    "import requests\n",
    "urls = [\"https://google.com\", \"https://maps.google.com\", \"https://microsoft.com\",\n",
    "    \"http://www.foxnews.com/\", \"http://www.cnn.com/\", \"http://europe.wsj.com/\",\n",
    "    \"http://www.bbc.co.uk/\"]\n",
    "\n",
    "def fetch(urls):\n",
    "    start_time = time.time()\n",
    "    lengths = [len(requests.get(url).text) for url in urls]\n",
    "    print(f\"It took {time.time() - start_time:.2f} seconds.\")\n",
    "    return lengths\n",
    "\n",
    "fetch(urls)"
   ]
  },
  {
   "cell_type": "code",
   "execution_count": 110,
   "metadata": {},
   "outputs": [],
   "source": [
    "import concurrent.futures\n",
    "\n",
    "def get_length(url):\n",
    "    return len(requests.get(url).text)\n",
    "\n",
    "def fetch_futures(urls):\n",
    "    start_time = time.time()\n",
    "    \n",
    "    with concurrent.futures.ThreadPoolExecutor(max_workers=3) as executor:\n",
    "        futures = [executor.submit(get_length, url) for url in urls]\n",
    "        concurrent.futures.wait(futures)\n",
    "    \n",
    "    lengths = [future.result() for future in futures]    \n",
    "    print(f\"It took {time.time() - start_time:.2f} seconds.\")\n",
    "    return lengths"
   ]
  },
  {
   "cell_type": "code",
   "execution_count": 111,
   "metadata": {},
   "outputs": [
    {
     "name": "stdout",
     "output_type": "stream",
     "text": [
      "It took 3.06 seconds.\n"
     ]
    },
    {
     "data": {
      "text/plain": [
       "[12093, 555486, 148960, 233504, 174069, 978472, 284179]"
      ]
     },
     "execution_count": 111,
     "metadata": {},
     "output_type": "execute_result"
    }
   ],
   "source": [
    "fetch_futures(urls)"
   ]
  },
  {
   "cell_type": "markdown",
   "metadata": {},
   "source": [
    "### asyncio"
   ]
  },
  {
   "cell_type": "code",
   "execution_count": 59,
   "metadata": {},
   "outputs": [
    {
     "name": "stdout",
     "output_type": "stream",
     "text": [
      "Hola!\n"
     ]
    }
   ],
   "source": [
    "import time\n",
    "\n",
    "def say(what, when):\n",
    "    time.sleep(when)\n",
    "    print(what)\n",
    "    \n",
    "say(\"Hola!\", 3)"
   ]
  },
  {
   "cell_type": "code",
   "execution_count": 61,
   "metadata": {},
   "outputs": [
    {
     "data": {
      "text/plain": [
       "<Task pending coro=<say() running at <ipython-input-61-6ebcd5c70de3>:3>>"
      ]
     },
     "execution_count": 61,
     "metadata": {},
     "output_type": "execute_result"
    },
    {
     "name": "stdout",
     "output_type": "stream",
     "text": [
      "Hello, world!\n"
     ]
    }
   ],
   "source": [
    "import asyncio\n",
    "\n",
    "async def say(what, when):\n",
    "    await asyncio.sleep(when)\n",
    "    print(what)\n",
    "\n",
    "loop = asyncio.get_event_loop()\n",
    "loop.create_task(say(\"Hello, world!\", 3))"
   ]
  },
  {
   "cell_type": "code",
   "execution_count": 62,
   "metadata": {},
   "outputs": [
    {
     "data": {
      "text/plain": [
       "<_UnixSelectorEventLoop running=True closed=False debug=False>"
      ]
     },
     "execution_count": 62,
     "metadata": {},
     "output_type": "execute_result"
    }
   ],
   "source": [
    "asyncio.get_event_loop()"
   ]
  },
  {
   "cell_type": "code",
   "execution_count": 112,
   "metadata": {},
   "outputs": [
    {
     "data": {
      "text/plain": [
       "<Task pending coro=<fetch_async_multiple() running at <ipython-input-112-40ee4b185209>:8>>"
      ]
     },
     "execution_count": 112,
     "metadata": {},
     "output_type": "execute_result"
    },
    {
     "name": "stdout",
     "output_type": "stream",
     "text": [
      "It took 2.68 seconds.\n",
      "[12140, 562388, 149006, 233504, 174069, 976387, 284140]\n"
     ]
    }
   ],
   "source": [
    "import aiohttp\n",
    "import asyncio\n",
    "\n",
    "async def fetch_async(session, url):\n",
    "    async with session.get(url) as response:\n",
    "        return await response.text()\n",
    "    \n",
    "async def fetch_async_multiple(urls):\n",
    "    start_time = time.time()\n",
    "    async with aiohttp.ClientSession() as session:\n",
    "        responses = [fetch_async(session, url) for url in urls]\n",
    "        lengths = [len(response) for response in await asyncio.gather(*responses)]\n",
    "        \n",
    "    print(f\"It took {time.time() - start_time:.2f} seconds.\")\n",
    "    print(lengths)\n",
    "\n",
    "loop.create_task(fetch_async_multiple(urls))"
   ]
  },
  {
   "cell_type": "markdown",
   "metadata": {},
   "source": [
    "# Finished example - real production system"
   ]
  },
  {
   "cell_type": "code",
   "execution_count": 20,
   "metadata": {},
   "outputs": [],
   "source": [
    "import collections\n",
    "\n",
    "VacationParameters = collections.namedtuple(\"VacationParameters\", [\"duration\", \"destination\"])\n",
    "\n",
    "class VacationExecuter:\n",
    "    def __init__(self, manager, factory):\n",
    "        self.manager = manager\n",
    "        self.factory = factory\n",
    "        \n",
    "    def set_parameters(self, duration, destination, vacation_type=None):\n",
    "        self.vacation = self.factory.create(vacation_type)\n",
    "        self.vacation.parameters = VacationParameters(duration, destination)\n",
    "        \n",
    "    def execute(self):\n",
    "        self.manager.authorize_vacation(self.vacation)\n",
    "        self.vacation.perform()\n",
    "        self.manager.vacation_ended()"
   ]
  },
  {
   "cell_type": "code",
   "execution_count": 23,
   "metadata": {},
   "outputs": [],
   "source": [
    "class Vacation:\n",
    "    def perform(self):\n",
    "        raise NotImplementedError()\n",
    "\n",
    "class DefaultVacation(Vacation):\n",
    "    def perform(self):\n",
    "        print(f\"{self.name} in {self.parameters.destination} \"\n",
    "              \"for {self.parameters.duration} days\")\n",
    "\n",
    "class HikingVacation(DefaultVacation):\n",
    "    name = \"Hike\"\n",
    "\n",
    "class BikingVacation(DefaultVacation):\n",
    "    name = \"Bike\"\n",
    "\n",
    "class BeachVacation(DefaultVacation):\n",
    "    name = \"Beach\""
   ]
  },
  {
   "cell_type": "code",
   "execution_count": 28,
   "metadata": {},
   "outputs": [],
   "source": [
    "class VacationFactory:\n",
    "    VACATION_TYPES = {\n",
    "        \"hiking\": HikingVacation,\n",
    "        \"biking\": BikingVacation,\n",
    "        \"beach\": BeachVacation\n",
    "    }\n",
    "                                     \n",
    "    def __init__(self, default_type):\n",
    "        self.default_type = default_type\n",
    "\n",
    "    def create(self, vacation_type=None):\n",
    "        return VacationFactory.VACATION_TYPES[vacation_type or self.default_type]()\n",
    "      "
   ]
  },
  {
   "cell_type": "code",
   "execution_count": 51,
   "metadata": {},
   "outputs": [],
   "source": [
    "class VacationManager:\n",
    "    def __init__(self, available_days=14):\n",
    "        self.available_days = available_days\n",
    "\n",
    "    def authorize_vacation(self, vacation):\n",
    "        if vacation.parameters.duration > self.available_days:\n",
    "            raise RuntimeError(\"Not enough vacation days available\")\n",
    "        # TODO: This is not thread-safe.\n",
    "        self.available_days -= vacation.parameters.duration\n",
    "        print(\"Have a safe trip :)\")\n",
    "        \n",
    "    def vacation_ended(self):\n",
    "        print(f\"Welcome back! {self.available_days} days left.\")"
   ]
  },
  {
   "cell_type": "code",
   "execution_count": 68,
   "metadata": {},
   "outputs": [],
   "source": [
    "manager = VacationManager()\n",
    "factory = VacationFactory(default_type=\"hiking\")\n",
    "executer = VacationExecuter(manager, factory)\n",
    "executer.set_parameters(duration=5, destination=\"Madagascar\")"
   ]
  },
  {
   "cell_type": "code",
   "execution_count": 69,
   "metadata": {},
   "outputs": [
    {
     "name": "stdout",
     "output_type": "stream",
     "text": [
      "Have a safe trip :)\n",
      "Hike in Madagascar for 5 days\n",
      "Welcome back! 9 days left.\n"
     ]
    }
   ],
   "source": [
    "executer.execute()"
   ]
  },
  {
   "cell_type": "markdown",
   "metadata": {},
   "source": [
    ".\n",
    "\n",
    ".\n",
    "\n",
    ".\n",
    "\n",
    ".\n",
    "\n",
    ".\n",
    "\n",
    ".\n",
    "\n",
    "## When your manager tells you to do this...\n",
    "\n",
    ".\n",
    "\n",
    ".\n",
    "\n",
    ".\n",
    "\n",
    ".\n",
    "\n",
    ".\n",
    "\n",
    ".\n",
    "\n",
    ".\n",
    "\n",
    ".\n",
    "\n",
    "\n",
    "\n",
    "\n",
    "# Just say no!\n",
    "\n",
    "\n",
    "#### Tell him,\n",
    "## YAGNI.\n",
    ".\n",
    "\n",
    ".\n",
    "\n",
    "."
   ]
  }
 ],
 "metadata": {
  "kernelspec": {
   "display_name": "Python 3",
   "language": "python",
   "name": "python3"
  },
  "language_info": {
   "codemirror_mode": {
    "name": "ipython",
    "version": 3
   },
   "file_extension": ".py",
   "mimetype": "text/x-python",
   "name": "python",
   "nbconvert_exporter": "python",
   "pygments_lexer": "ipython3",
   "version": "3.6.5"
  }
 },
 "nbformat": 4,
 "nbformat_minor": 2
}
